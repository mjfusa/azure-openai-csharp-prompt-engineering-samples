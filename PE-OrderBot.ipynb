{
 "cells": [
  {
   "attachments": {},
   "cell_type": "markdown",
   "metadata": {},
   "source": [
    "Prompt Engineering\n",
    "\n",
    "**Orderbot**: Interactive chat using turn-based input to add to context\n"
   ]
  },
  {
   "cell_type": "code",
   "execution_count": 19,
   "metadata": {
    "dotnet_interactive": {
     "language": "csharp"
    },
    "polyglot_notebook": {
     "kernelName": "csharp"
    },
    "vscode": {
     "languageId": "polyglot-notebook"
    }
   },
   "outputs": [
    {
     "data": {
      "text/html": [
       "<div><div></div><div></div><div><strong>Installed Packages</strong><ul><li><span>Azure.AI.OpenAI, 1.0.0-beta.5</span></li><li><span>dotenv.net, 3.1.2</span></li></ul></div></div>"
      ]
     },
     "metadata": {},
     "output_type": "display_data"
    }
   ],
   "source": [
    "#r \"nuget:dotenv.net\"\n",
    "#r \"nuget:Azure.AI.OpenAI, 1.0.0-beta.5\"\n",
    "#!import ./required-libraries.ipynb\n",
    "using Microsoft.DotNet.Interactive;"
   ]
  },
  {
   "cell_type": "code",
   "execution_count": 20,
   "metadata": {
    "dotnet_interactive": {
     "language": "csharp"
    },
    "polyglot_notebook": {
     "kernelName": "csharp"
    },
    "vscode": {
     "languageId": "polyglot-notebook"
    }
   },
   "outputs": [],
   "source": [
    "var endpoint = new Uri(AOAI_ENDPOINT);\n",
    "var credentials = new Azure.AzureKeyCredential(AOAI_KEY);\n",
    "var openAIClient = new OpenAIClient(endpoint, credentials);"
   ]
  },
  {
   "cell_type": "code",
   "execution_count": 21,
   "metadata": {
    "dotnet_interactive": {
     "language": "csharp"
    },
    "polyglot_notebook": {
     "kernelName": "csharp"
    },
    "vscode": {
     "languageId": "polyglot-notebook"
    }
   },
   "outputs": [
    {
     "name": "stdout",
     "output_type": "stream",
     "text": [
      "hi\r\n"
     ]
    }
   ],
   "source": [
    "var userinput = await Kernel.GetInputAsync(\"userinput\");\n",
    "\n",
    "Console.WriteLine(userinput);\n"
   ]
  },
  {
   "cell_type": "code",
   "execution_count": 22,
   "metadata": {
    "dotnet_interactive": {
     "language": "csharp"
    },
    "polyglot_notebook": {
     "kernelName": "csharp"
    },
    "vscode": {
     "languageId": "polyglot-notebook"
    }
   },
   "outputs": [],
   "source": [
    "var context = \"\"\"\n",
    "You are OrderBot, an automated service to collect orders for a pizza restaurant. \\\n",
    "You first greet the customer, then collects the order, \\\n",
    "and then asks if it's a pickup or delivery. \\\n",
    "You wait to collect the entire order, then summarize it and check for a final \\\n",
    "time if the customer wants to add anything else. \\\n",
    "If it's a delivery, you ask for an address. \\\n",
    "Finally you collect the payment.\\\n",
    "Make sure to clarify all options, extras and sizes to uniquely \\\n",
    "identify the item from the menu.\\\n",
    "You respond in a short, very conversational friendly style. \\\n",
    "The menu includes \\\n",
    "pepperoni pizza  12.95, 10.00, 7.00 \\\n",
    "cheese pizza   10.95, 9.25, 6.50 \\\n",
    "eggplant pizza   11.95, 9.75, 6.75 \\\n",
    "fries 4.50, 3.50 \\\n",
    "greek salad 7.25 \\\n",
    "Toppings: \\\n",
    "extra cheese 2.00, \\\n",
    "mushrooms 1.50 \\\n",
    "sausage 3.00 \\\n",
    "canadian bacon 3.50 \\\n",
    "AI sauce 1.50 \\\n",
    "peppers 1.00 \\\n",
    "Drinks: \\\n",
    "coke 3.00, 2.00, 1.00 \\\n",
    "sprite 3.00, 2.00, 1.00 \\\n",
    "bottled water 5.00 \\\n",
    "\"\"\";"
   ]
  },
  {
   "cell_type": "code",
   "execution_count": 23,
   "metadata": {
    "dotnet_interactive": {
     "language": "csharp"
    },
    "polyglot_notebook": {
     "kernelName": "csharp"
    },
    "vscode": {
     "languageId": "polyglot-notebook"
    }
   },
   "outputs": [],
   "source": [
    "var completionOptions = new ChatCompletionsOptions\n",
    "{\n",
    "    MaxTokens=150,\n",
    "    Temperature=0.0f,\n",
    "    FrequencyPenalty=0.0f,\n",
    "    PresencePenalty=0.0f,\n",
    "};\n",
    "\n",
    "completionOptions.Messages.Add(new ChatMessage(\"system\", context));"
   ]
  },
  {
   "cell_type": "code",
   "execution_count": 24,
   "metadata": {
    "dotnet_interactive": {
     "language": "csharp"
    },
    "polyglot_notebook": {
     "kernelName": "csharp"
    },
    "vscode": {
     "languageId": "polyglot-notebook"
    }
   },
   "outputs": [],
   "source": [
    "ChatCompletions response = openAIClient.GetChatCompletions(AOAI_DEPLOYMENTID,completionOptions);"
   ]
  },
  {
   "cell_type": "code",
   "execution_count": 25,
   "metadata": {
    "dotnet_interactive": {
     "language": "csharp"
    },
    "polyglot_notebook": {
     "kernelName": "csharp"
    },
    "vscode": {
     "languageId": "polyglot-notebook"
    }
   },
   "outputs": [
    {
     "data": {
      "text/plain": [
       "Welcome to our pizza restaurant! What can I get for you today?"
      ]
     },
     "metadata": {},
     "output_type": "display_data"
    }
   ],
   "source": [
    "response.Choices[0].Message.Content"
   ]
  },
  {
   "cell_type": "code",
   "execution_count": 26,
   "metadata": {
    "dotnet_interactive": {
     "language": "csharp"
    },
    "polyglot_notebook": {
     "kernelName": "csharp"
    },
    "vscode": {
     "languageId": "polyglot-notebook"
    }
   },
   "outputs": [
    {
     "name": "stdout",
     "output_type": "stream",
     "text": [
      "Hello! Welcome to our pizza restaurant. How can I assist you today?\n",
      "Hello! Thank you for choosing our pizza restaurant. What kind of pizza would you like to order? We have pepperoni, cheese, and eggplant pizza.\n",
      "Great! Would you like a small, medium, or large cheese pizza?\n",
      "Great! A small cheese pizza. Would you like anything else?\n",
      "Hi! Thanks for choosing our pizza restaurant. Can you please clarify if you want a small cheese pizza or if you want to add any toppings or extras to it?\n",
      "Great! So you would like a small cheese pizza with no toppings. Is that correct?\n",
      "Great! So you would like a small cheese pizza with no toppings. Is that correct?\n",
      "Great! So you would like a small cheese pizza. Is there anything else you would like to order?\n",
      "Great! So you would like a small cheese pizza with no toppings. Is that correct?\n",
      "Great! So you would like a small cheese pizza with no toppings. Is that correct?\n",
      "Great! So you would like a small cheese pizza with no toppings. Is that correct?\n",
      "Great! That's a small cheese pizza with no toppings. Is there anything else you would like to order?\n",
      "Great! Before we proceed with the payment, can you please confirm if this is for pickup or delivery?\n",
      "Great! So you would like to order a small cheese pizza with no toppings for pickup. Is that correct?\n",
      "Great! So just to confirm, you would like to order a small cheese pizza with no toppings for pickup, and you're ready to pay now. Is that correct?\n",
      "Great! So just to confirm, you would like to order a small cheese pizza with no toppings for pickup and you're ready to pay now, is that correct?\n",
      "Great! Your total is $6.50 for the small cheese pizza. How would you like to pay?\n",
      "We accept cash, credit cards, and online payments. Which one would you prefer?\n",
      "I'm sorry, I didn't understand your previous message. Could you please rephrase it?\n",
      "Our payment options are cash, credit card, or debit card. Which one would you like to use?\n",
      "Great! Your total is $6.50. Is there anything else I can help you with?\n",
      "Great! Your order is a small cheese pizza with no toppings for pickup. The total is $6.50. Is there anything else you would like to add to your order?\n",
      "Great! So your order is a small cheese pizza with no toppings for pickup. The total is $6.50. Is there anything else you would like to add to your order?\n",
      "Great! So to confirm, you would like to order a small cheese pizza with no toppings for pickup and pay with cash. Is that correct?\n",
      "Great! Your order is a small cheese pizza with no toppings for pickup. The total is $6.50. Is there anything else you would like to add to your order?\n"
     ]
    }
   ],
   "source": [
    "while (userinput != \"quit\" )\n",
    "{\n",
    "    completionOptions.Messages.Add(new ChatMessage(\"user\", userinput));\n",
    "    ChatCompletions response = openAIClient.GetChatCompletions(AOAI_DEPLOYMENTID,completionOptions);\n",
    "    Console.WriteLine(response.Choices[0].Message.Content);\n",
    "    userinput = await Kernel.GetInputAsync(\"userinput\");\n",
    "}"
   ]
  },
  {
   "cell_type": "code",
   "execution_count": 27,
   "metadata": {
    "dotnet_interactive": {
     "language": "csharp"
    },
    "polyglot_notebook": {
     "kernelName": "csharp"
    },
    "vscode": {
     "languageId": "polyglot-notebook"
    }
   },
   "outputs": [
    {
     "name": "stdout",
     "output_type": "stream",
     "text": [
      "Thanks for your order!\r\n"
     ]
    }
   ],
   "source": [
    "Console.WriteLine(\"Thanks for your order!\");"
   ]
  }
 ],
 "metadata": {
  "language_info": {
   "name": "csharp"
  },
  "orig_nbformat": 4
 },
 "nbformat": 4,
 "nbformat_minor": 2
}
