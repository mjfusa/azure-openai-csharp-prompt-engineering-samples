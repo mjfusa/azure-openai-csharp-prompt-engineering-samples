{
 "cells": [
  {
   "cell_type": "code",
   "execution_count": null,
   "metadata": {
    "dotnet_interactive": {
     "language": "csharp"
    },
    "polyglot_notebook": {
     "kernelName": "csharp"
    },
    "vscode": {
     "languageId": "polyglot-notebook"
    }
   },
   "outputs": [],
   "source": [
    "// #r fail in import. bug https://github.com/dotnet/interactive/pull/2982\n",
    "// #r \"nuget:dotenv.net\"\n",
    "// #r \"nuget:Azure.AI.OpenAI, 1.0.0-beta.5\"\n",
    "using System;\n",
    "using Azure.AI.OpenAI;\n",
    "using dotenv.net;\n",
    "\n",
    "DotEnv.Load();\n",
    "\n",
    "var AOAI_ENDPOINT = Environment.GetEnvironmentVariable(\"AOAI_ENDPOINT\");\n",
    "var AOAI_KEY = Environment.GetEnvironmentVariable(\"AOAI_KEY\");\n",
    "var AOAI_DEPLOYMENTID = Environment.GetEnvironmentVariable(\"AOAI_DEPLOYMENTID\");"
   ]
  }
 ],
 "metadata": {
  "language_info": {
   "name": "python"
  },
  "orig_nbformat": 4
 },
 "nbformat": 4,
 "nbformat_minor": 2
}
